{
 "cells": [
  {
   "cell_type": "markdown",
   "id": "6f629f97",
   "metadata": {},
   "source": [
    "# Task 1: Third-order letter approximation model"
   ]
  },
  {
   "cell_type": "markdown",
   "id": "6aea5c3d",
   "metadata": {},
   "source": [
    "###### Task description:\n",
    "Select five free English works in Plain Text UTF8 format from Project Gutenberg. Use them to create a model of the English language as follows. Remove any preamble and postamble. Remove all characters except for (ASCII) letters (uppercase and lowercase), full stops, and spaces. Make all letters uppercase.\n",
    "\n",
    "Next create a trigram model by counting the number of times each sequence of three characters (that is, each trigram) appears. You can design your own data structure for storing the results but explain your design and its rationale in your answer."
   ]
  },
  {
   "cell_type": "code",
   "execution_count": 17,
   "id": "342c7c43",
   "metadata": {},
   "outputs": [],
   "source": [
    "#import libraries\n",
    "import re\n",
    "from collections import defaultdict\n",
    "import requests\n",
    "import random"
   ]
  },
  {
   "cell_type": "code",
   "execution_count": 26,
   "id": "4983b6be",
   "metadata": {},
   "outputs": [
    {
     "name": "stdout",
     "output_type": "stream",
     "text": [
      "[('Second Treatise of Government by John Locke', 'https://www.gutenberg.org/ebooks/7370.txt.utf-8'), ('The Reign of Greed by José Rizal', 'https://www.gutenberg.org/ebooks/10676.txt.utf-8'), ('Great Expectations by Charles Dickens', 'https://www.gutenberg.org/ebooks/1400.txt.utf-8'), ('A Room with a View by E. M. Forster', 'https://www.gutenberg.org/ebooks/2641.txt.utf-8'), ('Dracula by Bram Stoker', 'https://www.gutenberg.org/ebooks/345.txt.utf-8')]\n",
      "1. Second Treatise of Government by John Locke: https://www.gutenberg.org/ebooks/7370.txt.utf-8\n",
      "2. The Reign of Greed by José Rizal: https://www.gutenberg.org/ebooks/10676.txt.utf-8\n",
      "3. Great Expectations by Charles Dickens: https://www.gutenberg.org/ebooks/1400.txt.utf-8\n",
      "4. A Room with a View by E. M. Forster: https://www.gutenberg.org/ebooks/2641.txt.utf-8\n",
      "5. Dracula by Bram Stoker: https://www.gutenberg.org/ebooks/345.txt.utf-8\n"
     ]
    }
   ],
   "source": [
    "import requests\n",
    "import random\n",
    "import re\n",
    "\n",
    "def task_one():\n",
    "\n",
    "    def select_random_gutenberg_works():\n",
    "        \"\"\"\n",
    "        Fetches the list of top 100 eBooks from Project Gutenberg,\n",
    "        parses the links manually without external libraries, and selects five works randomly.\n",
    "\n",
    "        Returns:\n",
    "            list: A list of tuples with eBook titles and their download URLs in Plain Text UTF-8 format.\n",
    "        \"\"\"\n",
    "        url = \"https://www.gutenberg.org/browse/scores/top\"\n",
    "\n",
    "        try:\n",
    "            # Fetch the top 100 eBooks page\n",
    "            response = requests.get(url)\n",
    "            response.raise_for_status()\n",
    "\n",
    "            # Extract links to eBook pages manually using regex\n",
    "            page_content = response.text\n",
    "            ebook_links = re.findall(r'href=\"(/ebooks/\\d+)\"', page_content)\n",
    "            ebook_links = [f\"https://www.gutenberg.org{link}\" for link in ebook_links]\n",
    "\n",
    "            if len(ebook_links) < 5:\n",
    "                print(\"Not enough eBooks found.\")\n",
    "                return []\n",
    "\n",
    "            # Randomly select 5 eBook pages\n",
    "            selected_pages = random.sample(ebook_links, 5)\n",
    "            ebooks_with_text_links = []\n",
    "\n",
    "            for page_url in selected_pages:\n",
    "                try:\n",
    "                    # Fetch each eBook page\n",
    "                    page_response = requests.get(page_url)\n",
    "                    page_response.raise_for_status()\n",
    "\n",
    "                    # Extract the Plain Text UTF-8 link manually\n",
    "                    text_match = re.search(r'href=\"(.*?\\.txt\\.utf-8)\"', page_response.text)\n",
    "                    title_match = re.search(r'<title>(.*?)\\| Project Gutenberg</title>', page_response.text)\n",
    "\n",
    "                    if text_match and title_match:\n",
    "                        full_text_url = f\"https://www.gutenberg.org{text_match.group(1)}\"\n",
    "                        title = title_match.group(1).strip()\n",
    "                        ebooks_with_text_links.append((title, full_text_url))\n",
    "\n",
    "                except requests.RequestException as e:\n",
    "                    print(f\"Error fetching eBook page {page_url}: {e}\")\n",
    "\n",
    "            if len(ebooks_with_text_links) < 5:\n",
    "                print(\"Not enough eBooks with Plain Text UTF-8 format found.\")\n",
    "                return []\n",
    "\n",
    "            return ebooks_with_text_links\n",
    "\n",
    "        except requests.RequestException as e:\n",
    "            print(f\"Error fetching data from Project Gutenberg: {e}\")\n",
    "            return []\n",
    "\n",
    "    # run all tasks\n",
    "    selected_works = select_random_gutenberg_works()\n",
    "    print(selected_works)\n",
    "    for idx, (title, url) in enumerate(selected_works, 1):\n",
    "        print(f\"{idx}. {title}: {url}\")\n",
    "\n",
    "\n",
    "task_one()        "
   ]
  },
  {
   "cell_type": "code",
   "execution_count": 7,
   "id": "b4390313",
   "metadata": {},
   "outputs": [],
   "source": [
    "\n",
    "def select_texts():\n",
    "    print('texts selected : ')\n",
    "\n",
    "\n",
    "''' Functions defined below '''\n",
    "\n",
    "def preprocess_text(text):\n",
    "    ''' Retain only letters, spaces, and full stops '''\n",
    "    text = re.sub(r'[^a-zA-Z. ]', '', text)  # Remove unwanted characters\n",
    "    return text.upper()  # Convert to uppercase\n",
    "\n",
    "def extract_trigrams(text):\n",
    "    trigram_counts = defaultdict(int)  # Default dictionary to store trigram counts\n",
    "    for i in range(len(text) - 2):  # Sliding window of 3\n",
    "        trigram = text[i:i+3]\n",
    "        trigram_counts[trigram] += 1\n",
    "    return trigram_counts\n",
    "\n",
    "def process_gutenberg_text(file_path):\n",
    "    with open(file_path, 'r', encoding='utf-8') as file:\n",
    "        text = file.read()\n",
    "\n",
    "    # Remove preamble and postamble\n",
    "    start = text.find('*** START OF THIS PROJECT GUTENBERG EBOOK')\n",
    "    end = text.find('*** END OF THIS PROJECT GUTENBERG EBOOK')\n",
    "    if start != -1 and end != -1:\n",
    "        text = text[start + 40:end]  # Strip preamble/postamble\n",
    "\n",
    "    # Preprocess the text and extract trigrams\n",
    "    cleaned_text = preprocess_text(text)\n",
    "    return extract_trigrams(cleaned_text)\n",
    "\n",
    "def merge_trigram_counts(all_counts, new_counts):\n",
    "    for trigram, count in new_counts.items():\n",
    "        all_counts[trigram] += count"
   ]
  },
  {
   "cell_type": "code",
   "execution_count": 20,
   "id": "18c4bc7a",
   "metadata": {},
   "outputs": [
    {
     "ename": "NameError",
     "evalue": "name 'process_gutenberg_text' is not defined",
     "output_type": "error",
     "traceback": [
      "\u001b[1;31m---------------------------------------------------------------------------\u001b[0m",
      "\u001b[1;31mNameError\u001b[0m                                 Traceback (most recent call last)",
      "Cell \u001b[1;32mIn[20], line 13\u001b[0m\n\u001b[0;32m     11\u001b[0m all_trigram_counts \u001b[38;5;241m=\u001b[39m defaultdict(\u001b[38;5;28mint\u001b[39m)\n\u001b[0;32m     12\u001b[0m \u001b[38;5;28;01mfor\u001b[39;00m file_path \u001b[38;5;129;01min\u001b[39;00m file_paths:\n\u001b[1;32m---> 13\u001b[0m     book_trigrams \u001b[38;5;241m=\u001b[39m process_gutenberg_text(file_path)\n\u001b[0;32m     14\u001b[0m     merge_trigram_counts(all_trigram_counts, book_trigrams)\n\u001b[0;32m     16\u001b[0m \u001b[38;5;66;03m# Sort trigrams by frequency (optional)\u001b[39;00m\n",
      "\u001b[1;31mNameError\u001b[0m: name 'process_gutenberg_text' is not defined"
     ]
    }
   ],
   "source": [
    "if __name__ == \"__main__\":\n",
    "    # Paths to the downloaded texts\n",
    "    file_paths = [\n",
    "        \"pride_and_prejudice.txt\",\n",
    "        \"a_tale_of_two_cities.txt\",\n",
    "        \"moby_dick.txt\",\n",
    "        \"sherlock_holmes.txt\",\n",
    "        \"dracula.txt\",\n",
    "    ]\n",
    "\n",
    "    all_trigram_counts = defaultdict(int)\n",
    "    for file_path in file_paths:\n",
    "        book_trigrams = process_gutenberg_text(file_path)\n",
    "        merge_trigram_counts(all_trigram_counts, book_trigrams)\n",
    "\n",
    "    # Sort trigrams by frequency (optional)\n",
    "    sorted_trigrams = sorted(all_trigram_counts.items(), key=lambda x: -x[1])\n",
    "\n",
    "    # Display top 10 trigrams\n",
    "    print(\"Top 10 Trigrams:\")\n",
    "    for trigram, count in sorted_trigrams[:10]:\n",
    "        print(f\"{trigram}: {count}\")\n"
   ]
  },
  {
   "cell_type": "markdown",
   "id": "ec9d489a",
   "metadata": {},
   "source": [
    "\n",
    "Task 1: Third-order letter approximation model\n",
    "Select five free English works in Plain Text UTF8 format from Project Gutenberg. Use them to create a model of the English language as follows. Remove any preamble and postamble. Remove all characters except for (ASCII) letters (uppercase and lowercase), full stops, and spaces. Make all letters uppercase.\n",
    "\n",
    "Next create a trigram model by counting the number of times each sequence of three characters (that is, each trigram) appears. You can design your own data structure for storing the results but explain your design and its rationale in your answer.\n",
    "\n",
    "For example, the sentence: It is what it is. would become IT IS WHAT IT IS. This will give a model like {'IT ': 2, 'T I': 3, ' IS': 2, 'IS ': 1, ...}."
   ]
  },
  {
   "cell_type": "markdown",
   "id": "d27b83a8",
   "metadata": {},
   "source": [
    "Task 2: Third-order letter approximation generation\n",
    "Use your model from Task 1 to generate a string of 10,000 characters. Start with the string TH. Generate each next character by looking at the previous two characters. Find the trigrams in your model that start with those two characters. Randomly select one of the third letters of those trigrams, using the counts as weights.\n",
    "\n",
    "For example, suppose your model has five trigrams starting with TH: THE appeared 150 times, THA appeared 70 times, THI 60 times, TH  50 times, and TH. appeared 10 times. The total of the counts is 340. Select the next character as E with probability 150/340, A with probability 70/340, and so on."
   ]
  },
  {
   "cell_type": "markdown",
   "id": "0471d4bd",
   "metadata": {},
   "source": [
    "Task 3. Analyze your model\n",
    "Copy the list of English words available in words.txt in this repository to your own repository. Use it to determine the percentage of words in your 10,000 characters that are actual words in the English language."
   ]
  },
  {
   "cell_type": "markdown",
   "id": "b3cd7a55",
   "metadata": {},
   "source": [
    "Task 4: Export your model as JSON\n",
    "Export your model as JavaScript Object Notation (JSON), saving it in your repository as trigrams.json."
   ]
  },
  {
   "cell_type": "markdown",
   "id": "f0d52a54",
   "metadata": {},
   "source": [
    "Select five free English works in Plain Text UTF8 format from Project Gutenberg. Use them to create a model of the English language as follows. Remove any preamble and postamble. Remove all characters except for (ASCII) letters (uppercase and lowercase), full stops, and spaces. Make all letters uppercase.\n",
    "\n",
    "Next create a trigram model by counting the number of times each sequence of three characters (that is, each trigram) appears. You can design your own data structure for storing the results but explain your design and its rationale in your answer."
   ]
  }
 ],
 "metadata": {
  "kernelspec": {
   "display_name": "Python 3 (ipykernel)",
   "language": "python",
   "name": "python3"
  },
  "language_info": {
   "codemirror_mode": {
    "name": "ipython",
    "version": 3
   },
   "file_extension": ".py",
   "mimetype": "text/x-python",
   "name": "python",
   "nbconvert_exporter": "python",
   "pygments_lexer": "ipython3",
   "version": "3.11.5"
  }
 },
 "nbformat": 4,
 "nbformat_minor": 5
}
