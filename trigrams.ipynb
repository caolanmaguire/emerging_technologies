{
 "cells": [
  {
   "cell_type": "markdown",
   "id": "6f629f97",
   "metadata": {},
   "source": [
    "# Task 1: Third-order letter approximation model"
   ]
  },
  {
   "cell_type": "markdown",
   "id": "6aea5c3d",
   "metadata": {},
   "source": [
    "Select five free English works in Plain Text UTF8 format from Project Gutenberg. Use them to create a model of the English language as follows. Remove any preamble and postamble. Remove all characters except for (ASCII) letters (uppercase and lowercase), full stops, and spaces. Make all letters uppercase.\n",
    "\n",
    "Next create a trigram model by counting the number of times each sequence of three characters (that is, each trigram) appears. You can design your own data structure for storing the results but explain your design and its rationale in your answer."
   ]
  },
  {
   "cell_type": "code",
   "execution_count": 4,
   "id": "342c7c43",
   "metadata": {},
   "outputs": [],
   "source": [
    "#import libraries\n",
    "import re\n",
    "from collections import defaultdict"
   ]
  },
  {
   "cell_type": "code",
   "execution_count": 7,
   "id": "b4390313",
   "metadata": {},
   "outputs": [],
   "source": [
    "''' Functions defined below '''\n",
    "\n",
    "def preprocess_text(text):\n",
    "    ''' Retain only letters, spaces, and full stops '''\n",
    "    text = re.sub(r'[^a-zA-Z. ]', '', text)  # Remove unwanted characters\n",
    "    return text.upper()  # Convert to uppercase\n",
    "\n",
    "def extract_trigrams(text):\n",
    "    trigram_counts = defaultdict(int)  # Default dictionary to store trigram counts\n",
    "    for i in range(len(text) - 2):  # Sliding window of 3\n",
    "        trigram = text[i:i+3]\n",
    "        trigram_counts[trigram] += 1\n",
    "    return trigram_counts\n",
    "\n",
    "def process_gutenberg_text(file_path):\n",
    "    with open(file_path, 'r', encoding='utf-8') as file:\n",
    "        text = file.read()\n",
    "\n",
    "    # Remove preamble and postamble\n",
    "    start = text.find('*** START OF THIS PROJECT GUTENBERG EBOOK')\n",
    "    end = text.find('*** END OF THIS PROJECT GUTENBERG EBOOK')\n",
    "    if start != -1 and end != -1:\n",
    "        text = text[start + 40:end]  # Strip preamble/postamble\n",
    "\n",
    "    # Preprocess the text and extract trigrams\n",
    "    cleaned_text = preprocess_text(text)\n",
    "    return extract_trigrams(cleaned_text)\n",
    "\n",
    "def merge_trigram_counts(all_counts, new_counts):\n",
    "    for trigram, count in new_counts.items():\n",
    "        all_counts[trigram] += count"
   ]
  },
  {
   "cell_type": "code",
   "execution_count": 6,
   "id": "18c4bc7a",
   "metadata": {},
   "outputs": [
    {
     "ename": "FileNotFoundError",
     "evalue": "[Errno 2] No such file or directory: 'pride_and_prejudice.txt'",
     "output_type": "error",
     "traceback": [
      "\u001b[1;31m---------------------------------------------------------------------------\u001b[0m",
      "\u001b[1;31mFileNotFoundError\u001b[0m                         Traceback (most recent call last)",
      "Cell \u001b[1;32mIn[6], line 13\u001b[0m\n\u001b[0;32m     11\u001b[0m all_trigram_counts \u001b[38;5;241m=\u001b[39m defaultdict(\u001b[38;5;28mint\u001b[39m)\n\u001b[0;32m     12\u001b[0m \u001b[38;5;28;01mfor\u001b[39;00m file_path \u001b[38;5;129;01min\u001b[39;00m file_paths:\n\u001b[1;32m---> 13\u001b[0m     book_trigrams \u001b[38;5;241m=\u001b[39m process_gutenberg_text(file_path)\n\u001b[0;32m     14\u001b[0m     merge_trigram_counts(all_trigram_counts, book_trigrams)\n\u001b[0;32m     16\u001b[0m \u001b[38;5;66;03m# Sort trigrams by frequency (optional)\u001b[39;00m\n",
      "Cell \u001b[1;32mIn[5], line 16\u001b[0m, in \u001b[0;36mprocess_gutenberg_text\u001b[1;34m(file_path)\u001b[0m\n\u001b[0;32m     15\u001b[0m \u001b[38;5;28;01mdef\u001b[39;00m \u001b[38;5;21mprocess_gutenberg_text\u001b[39m(file_path):\n\u001b[1;32m---> 16\u001b[0m     \u001b[38;5;28;01mwith\u001b[39;00m \u001b[38;5;28mopen\u001b[39m(file_path, \u001b[38;5;124m'\u001b[39m\u001b[38;5;124mr\u001b[39m\u001b[38;5;124m'\u001b[39m, encoding\u001b[38;5;241m=\u001b[39m\u001b[38;5;124m'\u001b[39m\u001b[38;5;124mutf-8\u001b[39m\u001b[38;5;124m'\u001b[39m) \u001b[38;5;28;01mas\u001b[39;00m file:\n\u001b[0;32m     17\u001b[0m         text \u001b[38;5;241m=\u001b[39m file\u001b[38;5;241m.\u001b[39mread()\n\u001b[0;32m     19\u001b[0m     \u001b[38;5;66;03m# Remove preamble and postamble\u001b[39;00m\n",
      "File \u001b[1;32m~\\anaconda3\\Lib\\site-packages\\IPython\\core\\interactiveshell.py:286\u001b[0m, in \u001b[0;36m_modified_open\u001b[1;34m(file, *args, **kwargs)\u001b[0m\n\u001b[0;32m    279\u001b[0m \u001b[38;5;28;01mif\u001b[39;00m file \u001b[38;5;129;01min\u001b[39;00m {\u001b[38;5;241m0\u001b[39m, \u001b[38;5;241m1\u001b[39m, \u001b[38;5;241m2\u001b[39m}:\n\u001b[0;32m    280\u001b[0m     \u001b[38;5;28;01mraise\u001b[39;00m \u001b[38;5;167;01mValueError\u001b[39;00m(\n\u001b[0;32m    281\u001b[0m         \u001b[38;5;124mf\u001b[39m\u001b[38;5;124m\"\u001b[39m\u001b[38;5;124mIPython won\u001b[39m\u001b[38;5;124m'\u001b[39m\u001b[38;5;124mt let you open fd=\u001b[39m\u001b[38;5;132;01m{\u001b[39;00mfile\u001b[38;5;132;01m}\u001b[39;00m\u001b[38;5;124m by default \u001b[39m\u001b[38;5;124m\"\u001b[39m\n\u001b[0;32m    282\u001b[0m         \u001b[38;5;124m\"\u001b[39m\u001b[38;5;124mas it is likely to crash IPython. If you know what you are doing, \u001b[39m\u001b[38;5;124m\"\u001b[39m\n\u001b[0;32m    283\u001b[0m         \u001b[38;5;124m\"\u001b[39m\u001b[38;5;124myou can use builtins\u001b[39m\u001b[38;5;124m'\u001b[39m\u001b[38;5;124m open.\u001b[39m\u001b[38;5;124m\"\u001b[39m\n\u001b[0;32m    284\u001b[0m     )\n\u001b[1;32m--> 286\u001b[0m \u001b[38;5;28;01mreturn\u001b[39;00m io_open(file, \u001b[38;5;241m*\u001b[39margs, \u001b[38;5;241m*\u001b[39m\u001b[38;5;241m*\u001b[39mkwargs)\n",
      "\u001b[1;31mFileNotFoundError\u001b[0m: [Errno 2] No such file or directory: 'pride_and_prejudice.txt'"
     ]
    }
   ],
   "source": [
    "if __name__ == \"__main__\":\n",
    "    # Paths to the downloaded texts\n",
    "    file_paths = [\n",
    "        \"pride_and_prejudice.txt\",\n",
    "        \"a_tale_of_two_cities.txt\",\n",
    "        \"moby_dick.txt\",\n",
    "        \"sherlock_holmes.txt\",\n",
    "        \"dracula.txt\",\n",
    "    ]\n",
    "\n",
    "    all_trigram_counts = defaultdict(int)\n",
    "    for file_path in file_paths:\n",
    "        book_trigrams = process_gutenberg_text(file_path)\n",
    "        merge_trigram_counts(all_trigram_counts, book_trigrams)\n",
    "\n",
    "    # Sort trigrams by frequency (optional)\n",
    "    sorted_trigrams = sorted(all_trigram_counts.items(), key=lambda x: -x[1])\n",
    "\n",
    "    # Display top 10 trigrams\n",
    "    print(\"Top 10 Trigrams:\")\n",
    "    for trigram, count in sorted_trigrams[:10]:\n",
    "        print(f\"{trigram}: {count}\")\n"
   ]
  },
  {
   "cell_type": "markdown",
   "id": "f0d52a54",
   "metadata": {},
   "source": [
    "Select five free English works in Plain Text UTF8 format from Project Gutenberg. Use them to create a model of the English language as follows. Remove any preamble and postamble. Remove all characters except for (ASCII) letters (uppercase and lowercase), full stops, and spaces. Make all letters uppercase.\n",
    "\n",
    "Next create a trigram model by counting the number of times each sequence of three characters (that is, each trigram) appears. You can design your own data structure for storing the results but explain your design and its rationale in your answer."
   ]
  }
 ],
 "metadata": {
  "kernelspec": {
   "display_name": "Python 3 (ipykernel)",
   "language": "python",
   "name": "python3"
  },
  "language_info": {
   "codemirror_mode": {
    "name": "ipython",
    "version": 3
   },
   "file_extension": ".py",
   "mimetype": "text/x-python",
   "name": "python",
   "nbconvert_exporter": "python",
   "pygments_lexer": "ipython3",
   "version": "3.11.5"
  }
 },
 "nbformat": 4,
 "nbformat_minor": 5
}
