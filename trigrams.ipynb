{
 "cells": [
  {
   "cell_type": "markdown",
   "id": "6f629f97",
   "metadata": {},
   "source": [
    "# Task 1: Third-order letter approximation model"
   ]
  },
  {
   "cell_type": "markdown",
   "id": "6aea5c3d",
   "metadata": {},
   "source": [
    "###### Task description:\n",
    "Select five free English works in Plain Text UTF8 format from Project Gutenberg. Use them to create a model of the English language as follows. Remove any preamble and postamble. Remove all characters except for (ASCII) letters (uppercase and lowercase), full stops, and spaces. Make all letters uppercase.\n",
    "\n",
    "Next create a trigram model by counting the number of times each sequence of three characters (that is, each trigram) appears. You can design your own data structure for storing the results but explain your design and its rationale in your answer."
   ]
  },
  {
   "cell_type": "code",
   "execution_count": 17,
   "id": "342c7c43",
   "metadata": {},
   "outputs": [],
   "source": [
    "#import libraries\n",
    "import re\n",
    "from collections import defaultdict\n",
    "import requests\n",
    "import random"
   ]
  },
  {
   "cell_type": "code",
   "execution_count": 18,
   "id": "4983b6be",
   "metadata": {},
   "outputs": [
    {
     "name": "stderr",
     "output_type": "stream",
     "text": [
      "C:\\Users\\caola\\AppData\\Local\\Temp\\ipykernel_47968\\316254235.py:48: DeprecationWarning: The 'text' argument to find()-type methods is deprecated. Use 'string' instead.\n",
      "  download_link = page_soup.find('a', href=True, text=\"Plain Text UTF-8\")\n"
     ]
    },
    {
     "name": "stdout",
     "output_type": "stream",
     "text": [
      "1. A Study in Scarlet by Arthur Conan Doyle: https://www.gutenberg.org/ebooks/244.txt.utf-8\n",
      "2. Twenty years after by Alexandre Dumas and Auguste Maquet: https://www.gutenberg.org/ebooks/1259.txt.utf-8\n",
      "3. Moby Dick; Or, The Whale by Herman Melville: https://www.gutenberg.org/ebooks/2701.txt.utf-8\n",
      "4. Wuthering Heights by Emily Brontë: https://www.gutenberg.org/ebooks/768.txt.utf-8\n",
      "5. The Adventures of Ferdinand Count Fathom — Complete by T. Smollett: https://www.gutenberg.org/ebooks/6761.txt.utf-8\n"
     ]
    }
   ],
   "source": [
    "def select_random_texts()):\n",
    "    \"\"\"\n",
    "    Fetches the list of top 100 eBooks from Project Gutenberg,\n",
    "    follows links to individual eBook pages, and selects five works randomly.\n",
    "\n",
    "    Returns:\n",
    "        list: A list of tuples with eBook titles and their download URLs in Plain Text UTF-8 format.\n",
    "    \"\"\"\n",
    "    # Base URL for top 100 eBooks on Project Gutenberg\n",
    "    url = \"https://www.gutenberg.org/browse/scores/top\"\n",
    "\n",
    "    try:\n",
    "        # Fetch the webpage\n",
    "        response = requests.get(url)\n",
    "        response.raise_for_status()\n",
    "        \n",
    "        # Extract links to eBook pages from the HTML content\n",
    "        from bs4 import BeautifulSoup\n",
    "        soup = BeautifulSoup(response.text, 'html.parser')\n",
    "\n",
    "        # Locate the links to eBook pages\n",
    "        links = soup.find_all('a', href=True)\n",
    "        ebook_pages = []\n",
    "        for link in links:\n",
    "            href = link['href']\n",
    "            if href.startswith('/ebooks/') and href[8:].isdigit():\n",
    "                # Extract the full URL to the eBook page\n",
    "                full_url = f\"https://www.gutenberg.org{href}\"\n",
    "                ebook_pages.append(full_url)\n",
    "\n",
    "        if len(ebook_pages) < 5:\n",
    "            print(\"Not enough eBooks found.\")\n",
    "            return []\n",
    "\n",
    "        # Randomly select 5 eBook pages\n",
    "        selected_pages = random.sample(ebook_pages, 5)\n",
    "        ebooks = []\n",
    "\n",
    "        for page_url in selected_pages:\n",
    "            try:\n",
    "                # Fetch each eBook page\n",
    "                page_response = requests.get(page_url)\n",
    "                page_response.raise_for_status()\n",
    "\n",
    "                page_soup = BeautifulSoup(page_response.text, 'html.parser')\n",
    "\n",
    "                # Find the Plain Text UTF-8 download link\n",
    "                download_link = page_soup.find('a', href=True, text=\"Plain Text UTF-8\")\n",
    "                if download_link:\n",
    "                    full_download_url = f\"https://www.gutenberg.org{download_link['href']}\"\n",
    "                    title = page_soup.find('title').text.split('|')[0].strip()\n",
    "                    ebooks.append((title, full_download_url))\n",
    "\n",
    "            except requests.RequestException as e:\n",
    "                print(f\"Error fetching eBook page {page_url}: {e}\")\n",
    "\n",
    "        if len(ebooks) < 5:\n",
    "            print(\"Not enough eBooks with Plain Text UTF-8 format found.\")\n",
    "            return []\n",
    "\n",
    "        return ebooks\n",
    "\n",
    "    except requests.RequestException as e:\n",
    "        print(f\"Error fetching data from Project Gutenberg: {e}\")\n",
    "        return []\n",
    "\n",
    "# Example usage\n",
    "selected_works = select_random_texts()\n",
    "for idx, (title, url) in enumerate(selected_works, 1):\n",
    "    print(f\"{idx}. {title}: {url}\")"
   ]
  },
  {
   "cell_type": "code",
   "execution_count": 7,
   "id": "b4390313",
   "metadata": {},
   "outputs": [],
   "source": [
    "\n",
    "def select_texts():\n",
    "    print('texts selected : ')\n",
    "\n",
    "\n",
    "''' Functions defined below '''\n",
    "\n",
    "def preprocess_text(text):\n",
    "    ''' Retain only letters, spaces, and full stops '''\n",
    "    text = re.sub(r'[^a-zA-Z. ]', '', text)  # Remove unwanted characters\n",
    "    return text.upper()  # Convert to uppercase\n",
    "\n",
    "def extract_trigrams(text):\n",
    "    trigram_counts = defaultdict(int)  # Default dictionary to store trigram counts\n",
    "    for i in range(len(text) - 2):  # Sliding window of 3\n",
    "        trigram = text[i:i+3]\n",
    "        trigram_counts[trigram] += 1\n",
    "    return trigram_counts\n",
    "\n",
    "def process_gutenberg_text(file_path):\n",
    "    with open(file_path, 'r', encoding='utf-8') as file:\n",
    "        text = file.read()\n",
    "\n",
    "    # Remove preamble and postamble\n",
    "    start = text.find('*** START OF THIS PROJECT GUTENBERG EBOOK')\n",
    "    end = text.find('*** END OF THIS PROJECT GUTENBERG EBOOK')\n",
    "    if start != -1 and end != -1:\n",
    "        text = text[start + 40:end]  # Strip preamble/postamble\n",
    "\n",
    "    # Preprocess the text and extract trigrams\n",
    "    cleaned_text = preprocess_text(text)\n",
    "    return extract_trigrams(cleaned_text)\n",
    "\n",
    "def merge_trigram_counts(all_counts, new_counts):\n",
    "    for trigram, count in new_counts.items():\n",
    "        all_counts[trigram] += count"
   ]
  },
  {
   "cell_type": "code",
   "execution_count": 6,
   "id": "18c4bc7a",
   "metadata": {},
   "outputs": [
    {
     "ename": "FileNotFoundError",
     "evalue": "[Errno 2] No such file or directory: 'pride_and_prejudice.txt'",
     "output_type": "error",
     "traceback": [
      "\u001b[1;31m---------------------------------------------------------------------------\u001b[0m",
      "\u001b[1;31mFileNotFoundError\u001b[0m                         Traceback (most recent call last)",
      "Cell \u001b[1;32mIn[6], line 13\u001b[0m\n\u001b[0;32m     11\u001b[0m all_trigram_counts \u001b[38;5;241m=\u001b[39m defaultdict(\u001b[38;5;28mint\u001b[39m)\n\u001b[0;32m     12\u001b[0m \u001b[38;5;28;01mfor\u001b[39;00m file_path \u001b[38;5;129;01min\u001b[39;00m file_paths:\n\u001b[1;32m---> 13\u001b[0m     book_trigrams \u001b[38;5;241m=\u001b[39m process_gutenberg_text(file_path)\n\u001b[0;32m     14\u001b[0m     merge_trigram_counts(all_trigram_counts, book_trigrams)\n\u001b[0;32m     16\u001b[0m \u001b[38;5;66;03m# Sort trigrams by frequency (optional)\u001b[39;00m\n",
      "Cell \u001b[1;32mIn[5], line 16\u001b[0m, in \u001b[0;36mprocess_gutenberg_text\u001b[1;34m(file_path)\u001b[0m\n\u001b[0;32m     15\u001b[0m \u001b[38;5;28;01mdef\u001b[39;00m \u001b[38;5;21mprocess_gutenberg_text\u001b[39m(file_path):\n\u001b[1;32m---> 16\u001b[0m     \u001b[38;5;28;01mwith\u001b[39;00m \u001b[38;5;28mopen\u001b[39m(file_path, \u001b[38;5;124m'\u001b[39m\u001b[38;5;124mr\u001b[39m\u001b[38;5;124m'\u001b[39m, encoding\u001b[38;5;241m=\u001b[39m\u001b[38;5;124m'\u001b[39m\u001b[38;5;124mutf-8\u001b[39m\u001b[38;5;124m'\u001b[39m) \u001b[38;5;28;01mas\u001b[39;00m file:\n\u001b[0;32m     17\u001b[0m         text \u001b[38;5;241m=\u001b[39m file\u001b[38;5;241m.\u001b[39mread()\n\u001b[0;32m     19\u001b[0m     \u001b[38;5;66;03m# Remove preamble and postamble\u001b[39;00m\n",
      "File \u001b[1;32m~\\anaconda3\\Lib\\site-packages\\IPython\\core\\interactiveshell.py:286\u001b[0m, in \u001b[0;36m_modified_open\u001b[1;34m(file, *args, **kwargs)\u001b[0m\n\u001b[0;32m    279\u001b[0m \u001b[38;5;28;01mif\u001b[39;00m file \u001b[38;5;129;01min\u001b[39;00m {\u001b[38;5;241m0\u001b[39m, \u001b[38;5;241m1\u001b[39m, \u001b[38;5;241m2\u001b[39m}:\n\u001b[0;32m    280\u001b[0m     \u001b[38;5;28;01mraise\u001b[39;00m \u001b[38;5;167;01mValueError\u001b[39;00m(\n\u001b[0;32m    281\u001b[0m         \u001b[38;5;124mf\u001b[39m\u001b[38;5;124m\"\u001b[39m\u001b[38;5;124mIPython won\u001b[39m\u001b[38;5;124m'\u001b[39m\u001b[38;5;124mt let you open fd=\u001b[39m\u001b[38;5;132;01m{\u001b[39;00mfile\u001b[38;5;132;01m}\u001b[39;00m\u001b[38;5;124m by default \u001b[39m\u001b[38;5;124m\"\u001b[39m\n\u001b[0;32m    282\u001b[0m         \u001b[38;5;124m\"\u001b[39m\u001b[38;5;124mas it is likely to crash IPython. If you know what you are doing, \u001b[39m\u001b[38;5;124m\"\u001b[39m\n\u001b[0;32m    283\u001b[0m         \u001b[38;5;124m\"\u001b[39m\u001b[38;5;124myou can use builtins\u001b[39m\u001b[38;5;124m'\u001b[39m\u001b[38;5;124m open.\u001b[39m\u001b[38;5;124m\"\u001b[39m\n\u001b[0;32m    284\u001b[0m     )\n\u001b[1;32m--> 286\u001b[0m \u001b[38;5;28;01mreturn\u001b[39;00m io_open(file, \u001b[38;5;241m*\u001b[39margs, \u001b[38;5;241m*\u001b[39m\u001b[38;5;241m*\u001b[39mkwargs)\n",
      "\u001b[1;31mFileNotFoundError\u001b[0m: [Errno 2] No such file or directory: 'pride_and_prejudice.txt'"
     ]
    }
   ],
   "source": [
    "if __name__ == \"__main__\":\n",
    "    # Paths to the downloaded texts\n",
    "    file_paths = [\n",
    "        \"pride_and_prejudice.txt\",\n",
    "        \"a_tale_of_two_cities.txt\",\n",
    "        \"moby_dick.txt\",\n",
    "        \"sherlock_holmes.txt\",\n",
    "        \"dracula.txt\",\n",
    "    ]\n",
    "\n",
    "    all_trigram_counts = defaultdict(int)\n",
    "    for file_path in file_paths:\n",
    "        book_trigrams = process_gutenberg_text(file_path)\n",
    "        merge_trigram_counts(all_trigram_counts, book_trigrams)\n",
    "\n",
    "    # Sort trigrams by frequency (optional)\n",
    "    sorted_trigrams = sorted(all_trigram_counts.items(), key=lambda x: -x[1])\n",
    "\n",
    "    # Display top 10 trigrams\n",
    "    print(\"Top 10 Trigrams:\")\n",
    "    for trigram, count in sorted_trigrams[:10]:\n",
    "        print(f\"{trigram}: {count}\")\n"
   ]
  },
  {
   "cell_type": "markdown",
   "id": "845a4c96",
   "metadata": {},
   "source": [
    "\n",
    "Task 1: Third-order letter approximation model\n",
    "Select five free English works in Plain Text UTF8 format from Project Gutenberg. Use them to create a model of the English language as follows. Remove any preamble and postamble. Remove all characters except for (ASCII) letters (uppercase and lowercase), full stops, and spaces. Make all letters uppercase.\n",
    "\n",
    "Next create a trigram model by counting the number of times each sequence of three characters (that is, each trigram) appears. You can design your own data structure for storing the results but explain your design and its rationale in your answer.\n",
    "\n",
    "For example, the sentence: It is what it is. would become IT IS WHAT IT IS. This will give a model like {'IT ': 2, 'T I': 3, ' IS': 2, 'IS ': 1, ...}."
   ]
  },
  {
   "cell_type": "markdown",
   "id": "464c2e80",
   "metadata": {},
   "source": [
    "Task 2: Third-order letter approximation generation\n",
    "Use your model from Task 1 to generate a string of 10,000 characters. Start with the string TH. Generate each next character by looking at the previous two characters. Find the trigrams in your model that start with those two characters. Randomly select one of the third letters of those trigrams, using the counts as weights.\n",
    "\n",
    "For example, suppose your model has five trigrams starting with TH: THE appeared 150 times, THA appeared 70 times, THI 60 times, TH  50 times, and TH. appeared 10 times. The total of the counts is 340. Select the next character as E with probability 150/340, A with probability 70/340, and so on."
   ]
  },
  {
   "cell_type": "markdown",
   "id": "38defb74",
   "metadata": {},
   "source": [
    "Task 3. Analyze your model\n",
    "Copy the list of English words available in words.txt in this repository to your own repository. Use it to determine the percentage of words in your 10,000 characters that are actual words in the English language."
   ]
  },
  {
   "cell_type": "markdown",
   "id": "75e599ed",
   "metadata": {},
   "source": [
    "Task 4: Export your model as JSON\n",
    "Export your model as JavaScript Object Notation (JSON), saving it in your repository as trigrams.json."
   ]
  },
  {
   "cell_type": "markdown",
   "id": "f0d52a54",
   "metadata": {},
   "source": [
    "Select five free English works in Plain Text UTF8 format from Project Gutenberg. Use them to create a model of the English language as follows. Remove any preamble and postamble. Remove all characters except for (ASCII) letters (uppercase and lowercase), full stops, and spaces. Make all letters uppercase.\n",
    "\n",
    "Next create a trigram model by counting the number of times each sequence of three characters (that is, each trigram) appears. You can design your own data structure for storing the results but explain your design and its rationale in your answer."
   ]
  }
 ],
 "metadata": {
  "kernelspec": {
   "display_name": "Python 3 (ipykernel)",
   "language": "python",
   "name": "python3"
  },
  "language_info": {
   "codemirror_mode": {
    "name": "ipython",
    "version": 3
   },
   "file_extension": ".py",
   "mimetype": "text/x-python",
   "name": "python",
   "nbconvert_exporter": "python",
   "pygments_lexer": "ipython3",
   "version": "3.11.5"
  }
 },
 "nbformat": 4,
 "nbformat_minor": 5
}
